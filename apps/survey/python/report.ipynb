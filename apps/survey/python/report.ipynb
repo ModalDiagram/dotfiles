{
 "cells": [
  {
   "cell_type": "code",
   "execution_count": 15,
   "id": "cb6eab9e-0848-4492-a8cc-d0e1445eab52",
   "metadata": {},
   "outputs": [],
   "source": [
    "import pandas as pd\n",
    "import datetime as dt\n",
    "import matplotlib.pyplot as plt\n",
    "import matplotlib.ticker as ticker\n",
    "import os"
   ]
  },
  {
   "cell_type": "markdown",
   "id": "14610791-9b17-41f0-b46f-7824614b740e",
   "metadata": {},
   "source": [
    "# Read csv file and format it"
   ]
  },
  {
   "cell_type": "code",
   "execution_count": 2,
   "id": "9b57aa89-637a-4d67-b601-6761e4fb394e",
   "metadata": {},
   "outputs": [],
   "source": [
    "df = pd.read_csv(\"~/.local/share/survey/data.txt\")\n",
    "df.columns = [\"timestamp\", \"mode\", \"count\"]"
   ]
  },
  {
   "cell_type": "code",
   "execution_count": 3,
   "id": "4f8e9bcf-5dc6-424f-891e-420009f5f98d",
   "metadata": {},
   "outputs": [
    {
     "data": {
      "text/html": [
       "<div>\n",
       "<style scoped>\n",
       "    .dataframe tbody tr th:only-of-type {\n",
       "        vertical-align: middle;\n",
       "    }\n",
       "\n",
       "    .dataframe tbody tr th {\n",
       "        vertical-align: top;\n",
       "    }\n",
       "\n",
       "    .dataframe thead th {\n",
       "        text-align: right;\n",
       "    }\n",
       "</style>\n",
       "<table border=\"1\" class=\"dataframe\">\n",
       "  <thead>\n",
       "    <tr style=\"text-align: right;\">\n",
       "      <th></th>\n",
       "      <th>timestamp</th>\n",
       "      <th>mode</th>\n",
       "      <th>count</th>\n",
       "    </tr>\n",
       "  </thead>\n",
       "  <tbody>\n",
       "    <tr>\n",
       "      <th>0</th>\n",
       "      <td>1706518533</td>\n",
       "      <td>150</td>\n",
       "      <td>129330</td>\n",
       "    </tr>\n",
       "    <tr>\n",
       "      <th>1</th>\n",
       "      <td>1706518642</td>\n",
       "      <td>150</td>\n",
       "      <td>129480</td>\n",
       "    </tr>\n",
       "    <tr>\n",
       "      <th>2</th>\n",
       "      <td>1706518728</td>\n",
       "      <td>150</td>\n",
       "      <td>129630</td>\n",
       "    </tr>\n",
       "    <tr>\n",
       "      <th>3</th>\n",
       "      <td>1706518841</td>\n",
       "      <td>150</td>\n",
       "      <td>129780</td>\n",
       "    </tr>\n",
       "    <tr>\n",
       "      <th>4</th>\n",
       "      <td>1706518959</td>\n",
       "      <td>150</td>\n",
       "      <td>129930</td>\n",
       "    </tr>\n",
       "  </tbody>\n",
       "</table>\n",
       "</div>"
      ],
      "text/plain": [
       "    timestamp  mode   count\n",
       "0  1706518533   150  129330\n",
       "1  1706518642   150  129480\n",
       "2  1706518728   150  129630\n",
       "3  1706518841   150  129780\n",
       "4  1706518959   150  129930"
      ]
     },
     "execution_count": 3,
     "metadata": {},
     "output_type": "execute_result"
    }
   ],
   "source": [
    "df.head()"
   ]
  },
  {
   "cell_type": "code",
   "execution_count": 4,
   "id": "5c7abe85-71a2-4967-b07c-532fa51edc4a",
   "metadata": {},
   "outputs": [
    {
     "data": {
      "text/html": [
       "<div>\n",
       "<style scoped>\n",
       "    .dataframe tbody tr th:only-of-type {\n",
       "        vertical-align: middle;\n",
       "    }\n",
       "\n",
       "    .dataframe tbody tr th {\n",
       "        vertical-align: top;\n",
       "    }\n",
       "\n",
       "    .dataframe thead th {\n",
       "        text-align: right;\n",
       "    }\n",
       "</style>\n",
       "<table border=\"1\" class=\"dataframe\">\n",
       "  <thead>\n",
       "    <tr style=\"text-align: right;\">\n",
       "      <th></th>\n",
       "      <th>timestamp</th>\n",
       "      <th>mode</th>\n",
       "      <th>count</th>\n",
       "      <th>date</th>\n",
       "    </tr>\n",
       "  </thead>\n",
       "  <tbody>\n",
       "    <tr>\n",
       "      <th>0</th>\n",
       "      <td>1706518533</td>\n",
       "      <td>150</td>\n",
       "      <td>129330</td>\n",
       "      <td>2024-01-29 09:55:33</td>\n",
       "    </tr>\n",
       "    <tr>\n",
       "      <th>1</th>\n",
       "      <td>1706518642</td>\n",
       "      <td>150</td>\n",
       "      <td>129480</td>\n",
       "      <td>2024-01-29 09:57:22</td>\n",
       "    </tr>\n",
       "    <tr>\n",
       "      <th>2</th>\n",
       "      <td>1706518728</td>\n",
       "      <td>150</td>\n",
       "      <td>129630</td>\n",
       "      <td>2024-01-29 09:58:48</td>\n",
       "    </tr>\n",
       "    <tr>\n",
       "      <th>3</th>\n",
       "      <td>1706518841</td>\n",
       "      <td>150</td>\n",
       "      <td>129780</td>\n",
       "      <td>2024-01-29 10:00:41</td>\n",
       "    </tr>\n",
       "    <tr>\n",
       "      <th>4</th>\n",
       "      <td>1706518959</td>\n",
       "      <td>150</td>\n",
       "      <td>129930</td>\n",
       "      <td>2024-01-29 10:02:39</td>\n",
       "    </tr>\n",
       "  </tbody>\n",
       "</table>\n",
       "</div>"
      ],
      "text/plain": [
       "    timestamp  mode   count                date\n",
       "0  1706518533   150  129330 2024-01-29 09:55:33\n",
       "1  1706518642   150  129480 2024-01-29 09:57:22\n",
       "2  1706518728   150  129630 2024-01-29 09:58:48\n",
       "3  1706518841   150  129780 2024-01-29 10:00:41\n",
       "4  1706518959   150  129930 2024-01-29 10:02:39"
      ]
     },
     "execution_count": 4,
     "metadata": {},
     "output_type": "execute_result"
    }
   ],
   "source": [
    "df[\"date\"] = df[\"timestamp\"].apply(dt.datetime.fromtimestamp)\n",
    "df.head()"
   ]
  },
  {
   "cell_type": "markdown",
   "id": "559231e1-6c7e-43db-aded-5015e6cdb174",
   "metadata": {},
   "source": [
    "# Evaluate seconds worked each day in the current month"
   ]
  },
  {
   "cell_type": "code",
   "execution_count": 9,
   "id": "b935c452-f6c1-4543-b4e2-f23f613a18c0",
   "metadata": {},
   "outputs": [
    {
     "data": {
      "text/html": [
       "<div>\n",
       "<style scoped>\n",
       "    .dataframe tbody tr th:only-of-type {\n",
       "        vertical-align: middle;\n",
       "    }\n",
       "\n",
       "    .dataframe tbody tr th {\n",
       "        vertical-align: top;\n",
       "    }\n",
       "\n",
       "    .dataframe thead th {\n",
       "        text-align: right;\n",
       "    }\n",
       "</style>\n",
       "<table border=\"1\" class=\"dataframe\">\n",
       "  <thead>\n",
       "    <tr style=\"text-align: right;\">\n",
       "      <th></th>\n",
       "      <th>timestamp</th>\n",
       "      <th>mode</th>\n",
       "      <th>count</th>\n",
       "      <th>date</th>\n",
       "      <th>day</th>\n",
       "    </tr>\n",
       "  </thead>\n",
       "  <tbody>\n",
       "    <tr>\n",
       "      <th>205</th>\n",
       "      <td>1706862001</td>\n",
       "      <td>180</td>\n",
       "      <td>164540</td>\n",
       "      <td>2024-02-02 09:20:01</td>\n",
       "      <td>2</td>\n",
       "    </tr>\n",
       "    <tr>\n",
       "      <th>206</th>\n",
       "      <td>1706862075</td>\n",
       "      <td>180</td>\n",
       "      <td>164720</td>\n",
       "      <td>2024-02-02 09:21:15</td>\n",
       "      <td>2</td>\n",
       "    </tr>\n",
       "    <tr>\n",
       "      <th>207</th>\n",
       "      <td>1706862165</td>\n",
       "      <td>180</td>\n",
       "      <td>164900</td>\n",
       "      <td>2024-02-02 09:22:45</td>\n",
       "      <td>2</td>\n",
       "    </tr>\n",
       "    <tr>\n",
       "      <th>208</th>\n",
       "      <td>1706862205</td>\n",
       "      <td>180</td>\n",
       "      <td>165080</td>\n",
       "      <td>2024-02-02 09:23:25</td>\n",
       "      <td>2</td>\n",
       "    </tr>\n",
       "    <tr>\n",
       "      <th>209</th>\n",
       "      <td>1706862251</td>\n",
       "      <td>180</td>\n",
       "      <td>165260</td>\n",
       "      <td>2024-02-02 09:24:11</td>\n",
       "      <td>2</td>\n",
       "    </tr>\n",
       "  </tbody>\n",
       "</table>\n",
       "</div>"
      ],
      "text/plain": [
       "      timestamp  mode   count                date  day\n",
       "205  1706862001   180  164540 2024-02-02 09:20:01    2\n",
       "206  1706862075   180  164720 2024-02-02 09:21:15    2\n",
       "207  1706862165   180  164900 2024-02-02 09:22:45    2\n",
       "208  1706862205   180  165080 2024-02-02 09:23:25    2\n",
       "209  1706862251   180  165260 2024-02-02 09:24:11    2"
      ]
     },
     "execution_count": 9,
     "metadata": {},
     "output_type": "execute_result"
    }
   ],
   "source": [
    "df_month = df[df[\"date\"].apply(lambda x: x.month == dt.datetime.now().month)]\n",
    "df_day = df_month.copy()\n",
    "df_day[\"day\"] = df_day[\"date\"].apply(lambda x: x.day)\n",
    "df_day.head()"
   ]
  },
  {
   "cell_type": "code",
   "execution_count": 6,
   "id": "f20a4219-1dc5-499e-a43c-4b5b741685f8",
   "metadata": {},
   "outputs": [
    {
     "data": {
      "text/html": [
       "<div>\n",
       "<style scoped>\n",
       "    .dataframe tbody tr th:only-of-type {\n",
       "        vertical-align: middle;\n",
       "    }\n",
       "\n",
       "    .dataframe tbody tr th {\n",
       "        vertical-align: top;\n",
       "    }\n",
       "\n",
       "    .dataframe thead th {\n",
       "        text-align: right;\n",
       "    }\n",
       "</style>\n",
       "<table border=\"1\" class=\"dataframe\">\n",
       "  <thead>\n",
       "    <tr style=\"text-align: right;\">\n",
       "      <th></th>\n",
       "      <th>mode</th>\n",
       "    </tr>\n",
       "    <tr>\n",
       "      <th>day</th>\n",
       "      <th></th>\n",
       "    </tr>\n",
       "  </thead>\n",
       "  <tbody>\n",
       "    <tr>\n",
       "      <th>2</th>\n",
       "      <td>9720</td>\n",
       "    </tr>\n",
       "    <tr>\n",
       "      <th>3</th>\n",
       "      <td>24450</td>\n",
       "    </tr>\n",
       "    <tr>\n",
       "      <th>4</th>\n",
       "      <td>27840</td>\n",
       "    </tr>\n",
       "    <tr>\n",
       "      <th>5</th>\n",
       "      <td>150</td>\n",
       "    </tr>\n",
       "    <tr>\n",
       "      <th>7</th>\n",
       "      <td>20900</td>\n",
       "    </tr>\n",
       "  </tbody>\n",
       "</table>\n",
       "</div>"
      ],
      "text/plain": [
       "      mode\n",
       "day       \n",
       "2     9720\n",
       "3    24450\n",
       "4    27840\n",
       "5      150\n",
       "7    20900"
      ]
     },
     "execution_count": 6,
     "metadata": {},
     "output_type": "execute_result"
    }
   ],
   "source": [
    "df2 = pd.DataFrame(df_day[\"mode\"].groupby(df_day[\"day\"]).sum())\n",
    "df2.head()"
   ]
  },
  {
   "cell_type": "code",
   "execution_count": 7,
   "id": "ff4a68d6-5779-43ed-ae9e-5194a5bb3f7c",
   "metadata": {},
   "outputs": [],
   "source": [
    "def format_func(x, pos):\n",
    "    hours = int(x//3600)\n",
    "    minutes = int((x%3600)//60)\n",
    "    seconds = int(x%60)\n",
    "\n",
    "    return \"{:d}:{:02d}\".format(hours, minutes)\n",
    "    # return \"{:d}:{:02d}:{:02d}\".format(hours, minutes, seconds)\n",
    "\n",
    "formatter = ticker.FuncFormatter(format_func)"
   ]
  },
  {
   "cell_type": "code",
   "execution_count": 8,
   "id": "750c4c1c-c495-4520-825b-4b49ac05098b",
   "metadata": {},
   "outputs": [
    {
     "data": {
      "image/png": "[encoded data removed]",
      "text/plain": [
       "<Figure size 640x480 with 1 Axes>"
      ]
     },
     "metadata": {},
     "output_type": "display_data"
    }
   ],
   "source": [
    "f = plt.figure()\n",
    "ax = f.add_subplot(1,1,1)\n",
    "ax.bar(df2.index, df2[\"mode\"])\n",
    "\n",
    "f.suptitle(\"Hours worked in the month of \" + dt.datetime.now().strftime(\"%B\"))\n",
    "ax.yaxis.set_major_formatter(formatter)\n",
    "# this locates y-ticks at the hours\n",
    "ax.yaxis.set_major_locator(ticker.MultipleLocator(base=3600))\n",
    "# this ensures each bar has a 'date' label\n",
    "ax.xaxis.set_major_locator(ticker.MultipleLocator(base=1))"
   ]
  },
  {
   "cell_type": "code",
   "execution_count": 24,
   "id": "48013f06-53ba-4cc0-aebe-d763a548672e",
   "metadata": {},
   "outputs": [
    {
     "data": {
      "text/plain": [
       "<Figure size 640x480 with 0 Axes>"
      ]
     },
     "metadata": {},
     "output_type": "display_data"
    }
   ],
   "source": [
    "plt.savefig(os.path.expanduser(\"~/.local/share/survey/images/hour_month.png\"))"
   ]
  }
 ],
 "metadata": {
  "kernelspec": {
   "display_name": "Python 3 (ipykernel)",
   "language": "python",
   "name": "python3"
  },
  "language_info": {
   "codemirror_mode": {
    "name": "ipython",
    "version": 3
   },
   "file_extension": ".py",
   "mimetype": "text/x-python",
   "name": "python",
   "nbconvert_exporter": "python",
   "pygments_lexer": "ipython3",
   "version": "3.11.6"
  }
 },
 "nbformat": 4,
 "nbformat_minor": 5
}
